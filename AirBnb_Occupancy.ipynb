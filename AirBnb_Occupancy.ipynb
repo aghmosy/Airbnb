{
  "nbformat": 4,
  "nbformat_minor": 0,
  "metadata": {
    "colab": {
      "name": "AirBnb_Occupancy.ipynb",
      "provenance": [],
      "collapsed_sections": []
    },
    "kernelspec": {
      "name": "python3",
      "display_name": "Python 3"
    },
    "language_info": {
      "name": "python"
    }
  },
  "cells": [
    {
      "cell_type": "markdown",
      "metadata": {
        "id": "G3cMwQVjPelJ"
      },
      "source": [
        "# **Install required packages:**\n",
        "*   gmplot to access Google Map\n",
        "*   GXBoost a powerfull regression model\n",
        "\n"
      ]
    },
    {
      "cell_type": "code",
      "metadata": {
        "colab": {
          "base_uri": "https://localhost:8080/"
        },
        "id": "61aqtfmk0KI7",
        "outputId": "1bb45986-d249-4173-c4c9-7fd2c951ea84"
      },
      "source": [
        "!pip install gmplot"
      ],
      "execution_count": null,
      "outputs": [
        {
          "output_type": "stream",
          "name": "stdout",
          "text": [
            "Requirement already satisfied: gmplot in /usr/local/lib/python3.7/dist-packages (1.4.1)\n",
            "Requirement already satisfied: requests in /usr/local/lib/python3.7/dist-packages (from gmplot) (2.23.0)\n",
            "Requirement already satisfied: certifi>=2017.4.17 in /usr/local/lib/python3.7/dist-packages (from requests->gmplot) (2021.10.8)\n",
            "Requirement already satisfied: idna<3,>=2.5 in /usr/local/lib/python3.7/dist-packages (from requests->gmplot) (2.10)\n",
            "Requirement already satisfied: urllib3!=1.25.0,!=1.25.1,<1.26,>=1.21.1 in /usr/local/lib/python3.7/dist-packages (from requests->gmplot) (1.24.3)\n",
            "Requirement already satisfied: chardet<4,>=3.0.2 in /usr/local/lib/python3.7/dist-packages (from requests->gmplot) (3.0.4)\n"
          ]
        }
      ]
    },
    {
      "cell_type": "code",
      "metadata": {
        "colab": {
          "base_uri": "https://localhost:8080/"
        },
        "id": "0KVtEvt2BAjC",
        "outputId": "b44e9cef-7ea9-4113-f96a-fd0ad70e11b0"
      },
      "source": [
        "!pip install xgboost"
      ],
      "execution_count": null,
      "outputs": [
        {
          "output_type": "stream",
          "name": "stdout",
          "text": [
            "Requirement already satisfied: xgboost in /usr/local/lib/python3.7/dist-packages (0.90)\n",
            "Requirement already satisfied: scipy in /usr/local/lib/python3.7/dist-packages (from xgboost) (1.4.1)\n",
            "Requirement already satisfied: numpy in /usr/local/lib/python3.7/dist-packages (from xgboost) (1.19.5)\n"
          ]
        }
      ]
    },
    {
      "cell_type": "markdown",
      "metadata": {
        "id": "YdkWMcZZP9Cw"
      },
      "source": [
        "# **Import essential libraries**"
      ]
    },
    {
      "cell_type": "code",
      "metadata": {
        "id": "xUZXwRRvwNBi"
      },
      "source": [
        "import pandas as pd\n",
        "import numpy as np\n",
        "import matplotlib.pyplot as plt\n",
        "import seaborn as sns\n",
        "from gmplot import *\n",
        "from sklearn.model_selection import train_test_split\n",
        "from sklearn.linear_model import LinearRegression, Ridge, LogisticRegression\n",
        "from sklearn.metrics import confusion_matrix, accuracy_score, r2_score, mean_squared_error\n",
        "import xgboost as xgb\n",
        "from sklearn.preprocessing import StandardScaler"
      ],
      "execution_count": null,
      "outputs": []
    },
    {
      "cell_type": "markdown",
      "metadata": {
        "id": "757psJfVQWjH"
      },
      "source": [
        "# **Gather Data**"
      ]
    },
    {
      "cell_type": "markdown",
      "metadata": {
        "id": "1kBd6g1a0glN"
      },
      "source": [
        "**Load data sets from csv files**\n",
        "\n",
        "\n",
        "\n"
      ]
    },
    {
      "cell_type": "code",
      "metadata": {
        "id": "vfIsVWcW1SyG"
      },
      "source": [
        "boston_cal = pd.read_csv('./Boston/calendar.csv')\n",
        "boston_list = pd.read_csv('./Boston/listings.csv')\n",
        "boston_rev = pd.read_csv('./Boston/reviews.csv')"
      ],
      "execution_count": null,
      "outputs": []
    },
    {
      "cell_type": "markdown",
      "metadata": {
        "id": "FZKZVXKfettR"
      },
      "source": [
        "# **Clean Data phase**\n",
        "\n",
        "\n"
      ]
    },
    {
      "cell_type": "markdown",
      "metadata": {
        "id": "njd6CxMlHPXv"
      },
      "source": [
        "Convert the strings in the columns with '$' and '%' into float"
      ]
    },
    {
      "cell_type": "code",
      "metadata": {
        "id": "TQQY2xnwHPrM"
      },
      "source": [
        "df = boston_list.copy()\n",
        "df['price'] = df['price'].replace('[\\$,]', '', regex=True).astype(float)\n",
        "df['extra_people'] = df['extra_people'].replace('[\\$,]', '', regex=True).astype(float)\n",
        "df['cleaning_fee'] = df['cleaning_fee'].replace('[\\$,]', '', regex=True).astype(float)\n",
        "df['security_deposit'] = df['security_deposit'].replace('[\\$,]', '', regex=True).astype(float)\n",
        "df['weekly_price'] = df['weekly_price'].replace('[\\$,]', '', regex=True).astype(float)\n",
        "df['monthly_price'] = df['monthly_price'].replace('[\\$,]', '', regex=True).astype(float)\n",
        "df['host_response_rate'] = (df['host_response_rate'].replace('[\\%,]', '', regex=True).astype(float))/100.0\n",
        "df['host_acceptance_rate'] = (df['host_acceptance_rate'].replace('[\\%,]', '', regex=True).astype(float))/100.0"
      ],
      "execution_count": null,
      "outputs": []
    },
    {
      "cell_type": "markdown",
      "metadata": {
        "id": "FzQpuZzkdQbU"
      },
      "source": [
        "Turn 'f' and 't' strings into 0 and 1 integers"
      ]
    },
    {
      "cell_type": "code",
      "metadata": {
        "id": "Lb59HmSpdQkL"
      },
      "source": [
        "boolean = [c for c in df if df[c].nunique() == 2]\n",
        "for i in boolean:\n",
        "    df[i] = df[i].replace(['f','t'], [0,1])"
      ],
      "execution_count": null,
      "outputs": []
    },
    {
      "cell_type": "markdown",
      "metadata": {
        "id": "amukuPNndqe7"
      },
      "source": [
        "Remove the columns with all Nan entries"
      ]
    },
    {
      "cell_type": "code",
      "metadata": {
        "id": "L05k_2aydqm7"
      },
      "source": [
        "nullList = [n for n in df if df[n].isnull().sum() == df.shape[0]]\n",
        "df = df.drop(nullList, axis=1)"
      ],
      "execution_count": null,
      "outputs": []
    },
    {
      "cell_type": "markdown",
      "metadata": {
        "id": "J9YPcrfoeAwJ"
      },
      "source": [
        "Remove the descriptive columns"
      ]
    },
    {
      "cell_type": "code",
      "metadata": {
        "id": "1M1o8SW4eA4C"
      },
      "source": [
        "drop_list = ['host_thumbnail_url', 'host_picture_url','host_neighbourhood',\n",
        "             'host_verifications','street','state','city','zipcode','smart_location',\n",
        "             'amenities','calendar_updated', 'first_review', 'last_review']\n",
        "df = df.drop(drop_list, axis=1)"
      ],
      "execution_count": null,
      "outputs": []
    },
    {
      "cell_type": "markdown",
      "metadata": {
        "id": "d3jb7FYteS7h"
      },
      "source": [
        "Remove the columns with a single value"
      ]
    },
    {
      "cell_type": "code",
      "metadata": {
        "id": "r5sLa0MEeTCE"
      },
      "source": [
        "uni = [c for c in df if df[c].nunique() == 1]\n",
        "df = df.drop(uni, axis=1)"
      ],
      "execution_count": null,
      "outputs": []
    },
    {
      "cell_type": "markdown",
      "metadata": {
        "id": "R3QGRdZufUXh"
      },
      "source": [
        "Look at the percentage of the Nan in each column\n"
      ]
    },
    {
      "cell_type": "code",
      "metadata": {
        "colab": {
          "base_uri": "https://localhost:8080/"
        },
        "id": "E_C6itHzfXYx",
        "outputId": "898d9021-2b69-4222-89ad-929187b41414"
      },
      "source": [
        "print(df.isnull().sum()/df.shape[0])"
      ],
      "execution_count": null,
      "outputs": [
        {
          "output_type": "stream",
          "name": "stdout",
          "text": [
            "id                                  0.000000\n",
            "listing_url                         0.000000\n",
            "name                                0.000000\n",
            "summary                             0.039888\n",
            "space                               0.294840\n",
            "                                      ...   \n",
            "cancellation_policy                 0.000000\n",
            "require_guest_profile_picture       0.000000\n",
            "require_guest_phone_verification    0.000000\n",
            "calculated_host_listings_count      0.000000\n",
            "reviews_per_month                   0.210879\n",
            "Length: 71, dtype: float64\n"
          ]
        }
      ]
    },
    {
      "cell_type": "markdown",
      "metadata": {
        "id": "k0vKMsADfi9J"
      },
      "source": [
        "Remove the columns with more than 50% Nan"
      ]
    },
    {
      "cell_type": "code",
      "metadata": {
        "id": "effYWm-RfUeL"
      },
      "source": [
        "df = df.drop(['square_feet', 'monthly_price', 'weekly_price', 'security_deposit'], axis=1)\n"
      ],
      "execution_count": null,
      "outputs": []
    },
    {
      "cell_type": "markdown",
      "metadata": {
        "id": "U3n6K_oKf-ub"
      },
      "source": [
        "Seperate the catagorical columns (df_cat) from numerical columns (df)"
      ]
    },
    {
      "cell_type": "code",
      "metadata": {
        "id": "u5MUeQkrf-8Q"
      },
      "source": [
        "df_cat = df.loc[:, df.dtypes == 'object']\n",
        "df = df.drop(df_cat.columns, axis=1)"
      ],
      "execution_count": null,
      "outputs": []
    },
    {
      "cell_type": "markdown",
      "metadata": {
        "id": "aDe32l8hg_of"
      },
      "source": [
        "**Handle the missing data for numerical columns:**\n",
        "\n",
        "*   boolean list contains the name of the columns with 'f' and 't' and we set Nan to zero for them assuming not given value means False\n",
        "*   Do the same for \"beds\" column to do not collide our judgment\n",
        "*   For the rest of the numerical columns we use the mean of the other values"
      ]
    },
    {
      "cell_type": "code",
      "metadata": {
        "id": "GScEJjClg_v3"
      },
      "source": [
        "df[boolean] = df[boolean].fillna(0)\n",
        "df['beds'] = df['beds'].fillna(0)\n",
        "fill_mean = lambda col: col.fillna(col.mean())\n",
        "df = df.apply(fill_mean, axis = 0)"
      ],
      "execution_count": null,
      "outputs": []
    },
    {
      "cell_type": "markdown",
      "metadata": {
        "id": "OpJa9kgoh_g2"
      },
      "source": [
        "**Handle the missing data for catagorical columns:**\n",
        "\n",
        "\n",
        "*   We observed that the value for \"neighbourhood\" is very much like \"neighbourhood_cleansed\". So we use that to fill in Nans.\n",
        " \n",
        "*   List item\n",
        "\n"
      ]
    },
    {
      "cell_type": "code",
      "metadata": {
        "id": "aTOk3SIZh_oH"
      },
      "source": [
        "df_cat['neighbourhood'] = df_cat['neighbourhood'].fillna(df_cat['neighbourhood_cleansed'])\n",
        "df_cat['property_type'] = df_cat['property_type'].fillna(df_cat['property_type'].mode()[0])"
      ],
      "execution_count": null,
      "outputs": []
    },
    {
      "cell_type": "code",
      "metadata": {
        "colab": {
          "base_uri": "https://localhost:8080/"
        },
        "id": "Y39X8P2_kD1c",
        "outputId": "d6fb46b3-b5dc-4140-fcfe-fd61b1fee297"
      },
      "source": [
        "print(df_cat.head())"
      ],
      "execution_count": null,
      "outputs": [
        {
          "output_type": "stream",
          "name": "stdout",
          "text": [
            "                             listing_url  ... cancellation_policy\n",
            "0  https://www.airbnb.com/rooms/12147973  ...            moderate\n",
            "1   https://www.airbnb.com/rooms/3075044  ...            moderate\n",
            "2      https://www.airbnb.com/rooms/6976  ...            moderate\n",
            "3   https://www.airbnb.com/rooms/1436513  ...            moderate\n",
            "4   https://www.airbnb.com/rooms/7651065  ...            flexible\n",
            "\n",
            "[5 rows x 28 columns]\n"
          ]
        }
      ]
    },
    {
      "cell_type": "markdown",
      "metadata": {
        "id": "bzXtaAEsk010"
      },
      "source": [
        "Remove the columns with URL"
      ]
    },
    {
      "cell_type": "code",
      "metadata": {
        "id": "m5GtL-stk0-V"
      },
      "source": [
        "df_cat = df_cat.iloc[:,-4:-1]\n"
      ],
      "execution_count": null,
      "outputs": []
    },
    {
      "cell_type": "markdown",
      "metadata": {
        "id": "vokGxMr3k3IE"
      },
      "source": [
        "Concatenate the two sets of numerical and catagorical features\n"
      ]
    },
    {
      "cell_type": "code",
      "metadata": {
        "id": "bOzRIAL0k3Vk"
      },
      "source": [
        "df = pd.concat([df, pd.get_dummies(df_cat, prefix=df_cat.columns, prefix_sep='_', drop_first=True)], axis=1)"
      ],
      "execution_count": null,
      "outputs": []
    },
    {
      "cell_type": "markdown",
      "metadata": {
        "id": "yN2qCXuimF0b"
      },
      "source": [
        "#**Analyze data** "
      ]
    },
    {
      "cell_type": "markdown",
      "metadata": {
        "id": "Y9WtJOJAJIxb"
      },
      "source": [
        "**Question_1: What is the distribution of the number of beds?**"
      ]
    },
    {
      "cell_type": "code",
      "metadata": {
        "colab": {
          "base_uri": "https://localhost:8080/",
          "height": 362
        },
        "id": "9F2SDHIZJI5T",
        "outputId": "19e988e2-7621-407c-dd49-7cc1c564e5bb"
      },
      "source": [
        "fig = plt.figure(figsize=(10,5))\n",
        "bed_dist = df.beds.value_counts()/df.shape[0]\n",
        "bed_dist.plot(kind=\"bar\");\n",
        "plt.title(\"beds distribution\");\n",
        "plt.xlabel(\"Number of beds\");\n",
        "plt.ylabel(\"population\");\n",
        "fig.savefig('bed_distribution.jpg', bbox_inches='tight', dpi=150)"
      ],
      "execution_count": null,
      "outputs": [
        {
          "output_type": "display_data",
          "data": {
            "image/png": "[encoded data removed]",
            "text/plain": [
              "<Figure size 720x360 with 1 Axes>"
            ]
          },
          "metadata": {
            "needs_background": "light"
          }
        }
      ]
    },
    {
      "cell_type": "markdown",
      "metadata": {
        "id": "UKmJJPH5R5BM"
      },
      "source": [
        "Group the items into 4 groups of one_bed, two_beds, three_beds, and more_beds property"
      ]
    },
    {
      "cell_type": "code",
      "metadata": {
        "id": "CkQgRakWR5M6"
      },
      "source": [
        "bed_1 = df.loc[df['beds'] == 1]\n",
        "bed_2 = df.loc[df['beds'] == 2]\n",
        "bed_3 = df.loc[df['beds'] == 3]\n",
        "bed_more = df.loc[df['beds'] > 3]\n"
      ],
      "execution_count": null,
      "outputs": []
    },
    {
      "cell_type": "markdown",
      "metadata": {
        "id": "5SsqC_WFp76m"
      },
      "source": [
        "Look at the distribution of their income based on the number of beds."
      ]
    },
    {
      "cell_type": "code",
      "metadata": {
        "id": "WQ4dCw5mrxFf"
      },
      "source": [
        "bed_1 = bed_1.assign(occupied = 30-bed_1['availability_30'])\n",
        "bed_2 = bed_2.assign(occupied = 30-bed_2['availability_30'])\n",
        "bed_3 = bed_3.assign(occupied = 30-bed_3['availability_30'])\n",
        "bed_more = bed_more.assign(occupied = 30-bed_more['availability_30'])\n",
        "\n",
        "income = pd.Series([(bed_1['occupied'] * bed_1['price']).mean(), (bed_2['occupied'] * bed_2['price']).mean(), \n",
        "          (bed_3['occupied'] * bed_3['price']).mean(), (bed_more['occupied'] * bed_more['price']).mean()], index = [1,2,3,'more'])"
      ],
      "execution_count": null,
      "outputs": []
    },
    {
      "cell_type": "markdown",
      "metadata": {
        "id": "NOkzcSGkxIqo"
      },
      "source": [
        "Looking at the income of the properties with the different number of rooms for 30 days shows that, if you have two rooms, it is better to rent them out separately."
      ]
    },
    {
      "cell_type": "code",
      "metadata": {
        "colab": {
          "base_uri": "https://localhost:8080/",
          "height": 295
        },
        "id": "vrhp7RkGs_xU",
        "outputId": "c883dc65-dfac-4c3e-c525-4a64076e5afd"
      },
      "source": [
        "figg = plt.figure(figsize=(8,4))\n",
        "income.plot(kind = 'bar');\n",
        "plt.xlabel('Number of beds');\n",
        "plt.ylabel('income ($)');\n",
        "figg.savefig('income.jpg', bbox_inches='tight', dpi=150);"
      ],
      "execution_count": null,
      "outputs": [
        {
          "output_type": "display_data",
          "data": {
            "image/png": "[encoded data removed]",
            "text/plain": [
              "<Figure size 576x288 with 1 Axes>"
            ]
          },
          "metadata": {
            "needs_background": "light"
          }
        }
      ]
    },
    {
      "cell_type": "markdown",
      "metadata": {
        "id": "kVdkz1AtzP7P"
      },
      "source": [
        "One reason could be for their higher occupancy rate."
      ]
    },
    {
      "cell_type": "code",
      "metadata": {
        "colab": {
          "base_uri": "https://localhost:8080/",
          "height": 224
        },
        "id": "rRbPaTiGR9oE",
        "outputId": "c115bab2-f5bf-4bb1-e31a-336214369c3b"
      },
      "source": [
        "fig1 = plt.figure(figsize=(6,3))\n",
        "(bed_1.availability_30.value_counts()/bed_1.shape[0]).plot(kind=\"pie\");\n",
        "plt.xlabel(\"Number of available nights\");\n",
        "plt.title(\"Occupancy of one bedroom property\")\n",
        "fig1.savefig('occupancy_1bed.jpg', bbox_inches='tight', dpi=150)"
      ],
      "execution_count": null,
      "outputs": [
        {
          "output_type": "display_data",
          "data": {
            "image/png": "[encoded data removed]",
            "text/plain": [
              "<Figure size 432x216 with 1 Axes>"
            ]
          },
          "metadata": {}
        }
      ]
    },
    {
      "cell_type": "code",
      "metadata": {
        "colab": {
          "base_uri": "https://localhost:8080/",
          "height": 224
        },
        "id": "1qjR-fdhR9wB",
        "outputId": "52ba36a2-e1e0-4ce4-98f1-105e6886cedd"
      },
      "source": [
        "fig2 = plt.figure(figsize=(6,3))\n",
        "(bed_2.availability_30.value_counts()/bed_2.shape[0]).plot(kind=\"pie\");\n",
        "plt.xlabel(\"Number of available nights\");\n",
        "plt.title(\"Occupancy of two bedroom property\")\n",
        "fig2.savefig('occupancy_2bed.jpg', bbox_inches='tight', dpi=150)"
      ],
      "execution_count": null,
      "outputs": [
        {
          "output_type": "display_data",
          "data": {
            "image/png": "[encoded data removed]",
            "text/plain": [
              "<Figure size 432x216 with 1 Axes>"
            ]
          },
          "metadata": {}
        }
      ]
    },
    {
      "cell_type": "code",
      "metadata": {
        "colab": {
          "base_uri": "https://localhost:8080/",
          "height": 224
        },
        "id": "J1qCsnJpR93k",
        "outputId": "2c08c9bc-6f23-4573-89ae-19008f8361f0"
      },
      "source": [
        "fig3 = plt.figure(figsize=(6,3))\n",
        "(bed_3.availability_30.value_counts()/bed_3.shape[0]).plot(kind=\"pie\");\n",
        "plt.xlabel(\"Number of available nights\");\n",
        "plt.title(\"Occupancy of two bedroom property\")\n",
        "fig3.savefig('occupancy_3bed.jpg', bbox_inches='tight', dpi=150)"
      ],
      "execution_count": null,
      "outputs": [
        {
          "output_type": "display_data",
          "data": {
            "image/png": "[encoded data removed]",
            "text/plain": [
              "<Figure size 432x216 with 1 Axes>"
            ]
          },
          "metadata": {}
        }
      ]
    },
    {
      "cell_type": "code",
      "metadata": {
        "colab": {
          "base_uri": "https://localhost:8080/",
          "height": 224
        },
        "id": "50H0zBygR6xu",
        "outputId": "3c886b62-a94b-4d7a-a803-112163b6d048"
      },
      "source": [
        "fig4 = plt.figure(figsize=(6,3))\n",
        "(bed_more.availability_30.value_counts()/bed_more.shape[0]).plot(kind=\"pie\");\n",
        "plt.xlabel(\"Number of available nights\");\n",
        "plt.title(\"Occupancy of two bedroom property\")\n",
        "fig4.savefig('occupancy_morebed.jpg', bbox_inches='tight', dpi=150)"
      ],
      "execution_count": null,
      "outputs": [
        {
          "output_type": "display_data",
          "data": {
            "image/png": "[encoded data removed]",
            "text/plain": [
              "<Figure size 432x216 with 1 Axes>"
            ]
          },
          "metadata": {}
        }
      ]
    },
    {
      "cell_type": "markdown",
      "metadata": {
        "id": "mliZdcmBzwJ9"
      },
      "source": [
        " **Question 2: Look into the data to determine whether price or geographical location affect the occupancy rate!**"
      ]
    },
    {
      "cell_type": "markdown",
      "metadata": {
        "id": "PcGMiCT2qp0-"
      },
      "source": [
        "Group the data into three catagory based on how much they are available in a month. \n",
        "\n",
        "*   Less than 3 days availability is set to \"**NotAvailable**\"\n",
        "*   Less than 16 days availability is set to \"**LessAvailable**\"\n",
        "*   More than 15 days is set to \"**HighlyAvailable**\"\n"
      ]
    },
    {
      "cell_type": "code",
      "metadata": {
        "id": "_I7crj6hp8UJ"
      },
      "source": [
        "def cal_range_aval(beds_):\n",
        "  ''' Creates a list of indications with the range of availabilities of the properties.\n",
        "      \n",
        "      Input: A DataFrame of the properties.\n",
        "      Output: A list of room availabilities\n",
        "\n",
        "      - If a property is only available for 2 nights or less for the next 30 days\n",
        "        it is considered as not Aavailable.\n",
        "\n",
        "      - If a property's availablility is less than 16 nights, it is a Less Available property\n",
        "\n",
        "      - Otherwise, it is a Highly Available property.    \n",
        "  '''\n",
        "    t = []\n",
        "    for i in beds_.availability_30:\n",
        "        if i < 3:\n",
        "            t.append('notAvailable')\n",
        "        elif i < 16:\n",
        "            t.append('LessAvailable')\n",
        "        else:\n",
        "            t.append('HighlyAvailabe')\n",
        "    return t"
      ],
      "execution_count": null,
      "outputs": []
    },
    {
      "cell_type": "markdown",
      "metadata": {
        "id": "j8Tz_RAN2mir"
      },
      "source": [
        "Add a column for the availability of the item"
      ]
    },
    {
      "cell_type": "code",
      "metadata": {
        "id": "tAVrABNvqBR4"
      },
      "source": [
        "bed_1 = bed_1.assign(range_availability = cal_range_aval(bed_1))\n",
        "bed_2 = bed_2.assign(range_availability = cal_range_aval(bed_2))\n",
        "bed_3 = bed_3.assign(range_availability = cal_range_aval(bed_3))\n",
        "bed_more = bed_more.assign(range_availability = cal_range_aval(bed_more))"
      ],
      "execution_count": null,
      "outputs": []
    },
    {
      "cell_type": "code",
      "metadata": {
        "colab": {
          "base_uri": "https://localhost:8080/",
          "height": 361
        },
        "id": "nd9s0TeMqLue",
        "outputId": "68476de7-86be-41c1-dee4-be5cbf126b69"
      },
      "source": [
        "fig5 = plt.figure(figsize=(8,4))\n",
        "(bed_1.groupby('range_availability').mean()['price']).plot(kind=\"bar\");\n",
        "plt.ylabel(\"Price ($)\");\n",
        "plt.title(\"One bed room type\");\n",
        "fig5.savefig('price_1bed.jpg', bbox_inches='tight', dpi=150);"
      ],
      "execution_count": null,
      "outputs": [
        {
          "output_type": "display_data",
          "data": {
            "image/png": "[encoded data removed]",
            "text/plain": [
              "<Figure size 576x288 with 1 Axes>"
            ]
          },
          "metadata": {
            "needs_background": "light"
          }
        }
      ]
    },
    {
      "cell_type": "code",
      "metadata": {
        "colab": {
          "base_uri": "https://localhost:8080/",
          "height": 361
        },
        "id": "a4GNmYbqqYVu",
        "outputId": "8645ceaf-7d2f-4da7-e1aa-dc7f43afb5e3"
      },
      "source": [
        "fig6 = plt.figure(figsize=(8,4))\n",
        "(bed_2.groupby('range_availability').mean()['price']).plot(kind=\"bar\");\n",
        "plt.ylabel(\"Price ($)\");\n",
        "plt.title(\"Two bed room type\");\n",
        "fig5.savefig('price_2bed.jpg', bbox_inches='tight', dpi=150);"
      ],
      "execution_count": null,
      "outputs": [
        {
          "output_type": "display_data",
          "data": {
            "image/png": "[encoded data removed]",
            "text/plain": [
              "<Figure size 576x288 with 1 Axes>"
            ]
          },
          "metadata": {
            "needs_background": "light"
          }
        }
      ]
    },
    {
      "cell_type": "code",
      "metadata": {
        "colab": {
          "base_uri": "https://localhost:8080/",
          "height": 361
        },
        "id": "4Fzq8dMWqY6B",
        "outputId": "54498880-a22c-45ec-abc4-61257be06689"
      },
      "source": [
        "(bed_3.groupby('range_availability').mean()['price']).plot(kind=\"bar\");\n",
        "plt.ylabel(\"Price ($)\");\n",
        "plt.title(\"Three bed room type\");"
      ],
      "execution_count": null,
      "outputs": [
        {
          "output_type": "display_data",
          "data": {
            "image/png": "[encoded data removed]",
            "text/plain": [
              "<Figure size 432x288 with 1 Axes>"
            ]
          },
          "metadata": {
            "needs_background": "light"
          }
        }
      ]
    },
    {
      "cell_type": "code",
      "metadata": {
        "id": "G9he2KxisYHe",
        "colab": {
          "base_uri": "https://localhost:8080/",
          "height": 361
        },
        "outputId": "1d1537a3-696d-4d5c-f366-164ce1cd3156"
      },
      "source": [
        "(bed_more.groupby('range_availability').mean()['price']).plot(kind=\"bar\");\n",
        "plt.ylabel(\"Price ($)\");\n",
        "plt.title(\"More than 3 bed rooms type\");"
      ],
      "execution_count": null,
      "outputs": [
        {
          "output_type": "display_data",
          "data": {
            "image/png": "[encoded data removed]",
            "text/plain": [
              "<Figure size 432x288 with 1 Axes>"
            ]
          },
          "metadata": {
            "needs_background": "light"
          }
        }
      ]
    },
    {
      "cell_type": "markdown",
      "metadata": {
        "id": "KdA71xxd9LEM"
      },
      "source": [
        "Create dataframes for each set of availabilities and number of rooms."
      ]
    },
    {
      "cell_type": "code",
      "metadata": {
        "id": "HNzni4UIUBNo"
      },
      "source": [
        "bed_1_high = bed_1[bed_1['range_availability'] == 'HighlyAvailabe']\n",
        "bed_1_low = bed_1[bed_1['range_availability'] == 'notAvailable']\n",
        "bed_1_med = bed_1[bed_1['range_availability'] == 'LessAvailable']\n",
        "\n",
        "bed_2_high = bed_2[bed_2['range_availability'] == 'HighlyAvailabe']\n",
        "bed_2_low = bed_2[bed_2['range_availability'] == 'notAvailable']\n",
        "bed_2_med = bed_2[bed_2['range_availability'] == 'LessAvailable']\n",
        "\n",
        "bed_3_high = bed_3[bed_3['range_availability'] == 'HighlyAvailabe']\n",
        "bed_3_low = bed_3[bed_3['range_availability'] == 'notAvailable']\n",
        "bed_3_med = bed_3[bed_3['range_availability'] == 'LessAvailable']\n",
        "\n",
        "bed_more_high = bed_more[bed_more['range_availability'] == 'HighlyAvailabe']\n",
        "bed_more_low = bed_more[bed_more['range_availability'] == 'notAvailable']\n",
        "bed_more_med = bed_more[bed_more['range_availability'] == 'LessAvailable']\n"
      ],
      "execution_count": null,
      "outputs": []
    },
    {
      "cell_type": "markdown",
      "metadata": {
        "id": "hUnYpkPC9loL"
      },
      "source": [
        "Draw the map with the dots showing the availability of the places. \n",
        "Black dots for HIGHLY available place.\n",
        "Red dots for NOTAVAilabilities.\n",
        "Blue dots for moderate available rooms."
      ]
    },
    {
      "cell_type": "code",
      "metadata": {
        "id": "xnaDo_lY3sAq"
      },
      "source": [
        "def draw_map(bed, latitude, longitude, fileName):\n",
        "  ''' Takes infor for the city and the properties to draw a google mape with \n",
        "      indications on the range of accupancy for each property.\n",
        "\n",
        "      Inoput: \n",
        "              - bed: A DataFrame the properties for a specific number of rooms, \n",
        "              - latitude, longitude: the geo-locations of the city, \n",
        "              - fileName: the output file name.\n",
        "      Output: an HTML file to darw the map on Google map\n",
        "      Notes: The red color dots indicates the properties which are \n",
        "             mainly fully booked for the next 30 days.\n",
        "             The black dots indicates highly available rooms, and\n",
        "             the blue dots are showing the location of midrange available places\n",
        "  '''\n",
        "  latitude_list_high = bed[bed['range_availability'] == 'HighlyAvailabe'].latitude\n",
        "  longitude_list_high = bed[bed['range_availability'] == 'HighlyAvailabe'].longitude\n",
        "  latitude_list_low = bed[bed['range_availability'] == 'notAvailable'].latitude\n",
        "  longitude_list_low = bed[bed['range_availability'] == 'notAvailable'].longitude\n",
        "  latitude_list_med = bed[bed['range_availability'] == 'LessAvailable'].latitude\n",
        "  longitude_list_med = bed[bed['range_availability'] == 'LessAvailable'].longitude\n",
        "\n",
        "  gmap = gmplot.GoogleMapPlotter(latitude, longitude, 11)\n",
        "  gmap.scatter( latitude_list_high, longitude_list_high, 'black', size = 40, marker = False)\n",
        "  gmap.scatter( latitude_list_low, longitude_list_low, 'red', size = 40, marker = False)\n",
        "  gmap.scatter( latitude_list_med, longitude_list_med, 'cornflowerblue', size = 40, marker = False)\n",
        "  # add your gmap API key here!\n",
        "  gmap.draw(fileName)"
      ],
      "execution_count": 1,
      "outputs": []
    },
    {
      "cell_type": "code",
      "metadata": {
        "id": "S_MksLR1S1SA"
      },
      "source": [
        "draw_map(bed_1, 42.3, -71.1, \"map_Boston_1_bed.html\")"
      ],
      "execution_count": null,
      "outputs": []
    },
    {
      "cell_type": "code",
      "metadata": {
        "id": "k--nVpUT5XKR"
      },
      "source": [
        "draw_map(bed_2, 42.3, -71.1, \"map_Boston_2_bed.html\")"
      ],
      "execution_count": null,
      "outputs": []
    },
    {
      "cell_type": "code",
      "metadata": {
        "id": "a6kVNhkj5XtI"
      },
      "source": [
        "draw_map(bed_3, 42.3, -71.1, \"map_Boston_3_bed.html\")"
      ],
      "execution_count": null,
      "outputs": []
    },
    {
      "cell_type": "code",
      "metadata": {
        "id": "LNyTvtSJ5YCY"
      },
      "source": [
        "draw_map(bed_more, 42.3, -71.1, \"map_Boston_more_bed.html\")"
      ],
      "execution_count": null,
      "outputs": []
    },
    {
      "cell_type": "markdown",
      "metadata": {
        "id": "2pCysifKSE14"
      },
      "source": [
        "# **Model**"
      ]
    },
    {
      "cell_type": "markdown",
      "metadata": {
        "id": "HOGs_yyDR9Xg"
      },
      "source": [
        "**Some more data cleaning for model training**"
      ]
    },
    {
      "cell_type": "markdown",
      "metadata": {
        "id": "eW8uwqPhJ-Mz"
      },
      "source": [
        "Removig these features increased the modeling performance a lot"
      ]
    },
    {
      "cell_type": "code",
      "metadata": {
        "id": "KUsxes6EJ8RL"
      },
      "source": [
        "df = df.drop(['host_has_profile_pic','host_identity_verified','is_location_exact'],axis=1)"
      ],
      "execution_count": null,
      "outputs": []
    },
    {
      "cell_type": "markdown",
      "metadata": {
        "id": "Sczv4-_TKD5B"
      },
      "source": [
        "Create X and y (label) data sets"
      ]
    },
    {
      "cell_type": "code",
      "metadata": {
        "id": "gToJ12au_k2x"
      },
      "source": [
        "df = df.iloc[:,2:]\n",
        "Y = df.loc[:, ['availability_30', 'availability_60', 'availability_90', 'availability_365']]\n",
        "X = df.drop(Y, axis=1)\n",
        "\n",
        "y = Y.iloc[:,0]"
      ],
      "execution_count": null,
      "outputs": []
    },
    {
      "cell_type": "markdown",
      "metadata": {
        "id": "4cFEjSm7KKZa"
      },
      "source": [
        "Split the sets into train and test data sets"
      ]
    },
    {
      "cell_type": "code",
      "metadata": {
        "id": "G2VZR8xV_oPR"
      },
      "source": [
        "X_train, X_test, y_train, y_test = train_test_split(X, y, test_size = 0.3, random_state=42) "
      ],
      "execution_count": null,
      "outputs": []
    },
    {
      "cell_type": "markdown",
      "metadata": {
        "id": "hLHxY1VBKR0q"
      },
      "source": [
        "Create the XGBOOST model and train the model"
      ]
    },
    {
      "cell_type": "code",
      "metadata": {
        "colab": {
          "base_uri": "https://localhost:8080/"
        },
        "id": "9VGZYp_uKR-Z",
        "outputId": "efc7329e-a09b-4b2b-9f1c-5a67929f7364"
      },
      "source": [
        "xg_reg = xgb.XGBRegressor(objective ='reg:linear', colsample_bytree = 0.3, learning_rate = 0.1,\n",
        "                max_depth = 5, alpha = 10, n_estimators = 10)\n",
        "\n",
        "xg_reg.fit(X_train,y_train)"
      ],
      "execution_count": null,
      "outputs": [
        {
          "output_type": "stream",
          "name": "stdout",
          "text": [
            "[08:17:26] WARNING: /workspace/src/objective/regression_obj.cu:152: reg:linear is now deprecated in favor of reg:squarederror.\n"
          ]
        },
        {
          "output_type": "execute_result",
          "data": {
            "text/plain": [
              "XGBRegressor(alpha=10, base_score=0.5, booster='gbtree', colsample_bylevel=1,\n",
              "             colsample_bynode=1, colsample_bytree=0.3, gamma=0,\n",
              "             importance_type='gain', learning_rate=0.1, max_delta_step=0,\n",
              "             max_depth=5, min_child_weight=1, missing=None, n_estimators=10,\n",
              "             n_jobs=1, nthread=None, objective='reg:linear', random_state=0,\n",
              "             reg_alpha=0, reg_lambda=1, scale_pos_weight=1, seed=None,\n",
              "             silent=None, subsample=1, verbosity=1)"
            ]
          },
          "metadata": {},
          "execution_count": 121
        }
      ]
    },
    {
      "cell_type": "markdown",
      "metadata": {
        "id": "Pv9hAIsJKbUy"
      },
      "source": [
        "Predict using test set and report the accuracy"
      ]
    },
    {
      "cell_type": "code",
      "metadata": {
        "colab": {
          "base_uri": "https://localhost:8080/"
        },
        "id": "L9PY_Rt8Kbb0",
        "outputId": "9cf6c7f3-2a56-4eee-ebcb-b213f9ce4c67"
      },
      "source": [
        "preds = xg_reg.predict(X_test)\n",
        "r_xgb = r2_score(y_test, preds)\n",
        "m_xgb = mean_squared_error(y_test, preds)\n",
        "print('XGB model give {} score and {} squared error'.format(r_xgb, m_xgb))"
      ],
      "execution_count": null,
      "outputs": [
        {
          "output_type": "stream",
          "name": "stdout",
          "text": [
            "XGB model give 0.21011221758812482 score and 85.25996706207042 squared error\n"
          ]
        }
      ]
    },
    {
      "cell_type": "markdown",
      "metadata": {
        "id": "d_2oSM-PKoeq"
      },
      "source": [
        "Since the regression did not perform well, we try classification.\n",
        "To classify we need to create labels.\n",
        "Rooms with less than 10 days availability is set to \"NotAvailable\", and more than 9 days to \"Available\""
      ]
    },
    {
      "cell_type": "code",
      "metadata": {
        "id": "SxIsVEftAtmU"
      },
      "source": [
        "def cal_lable(df, col):\n",
        "  ''' Used for classification.\n",
        "      \n",
        "      For a binary classification it is requird to add another column as a label\n",
        "      to classify each raw of data.\n",
        "\n",
        "      Here the property with less than 10 nights availability in a month is set \n",
        "      as less available (label 0) and other wise highly available (label 1). \n",
        "  '''\n",
        "    lable = []\n",
        "    for i in list(df[col]):\n",
        "        if i < 10:\n",
        "            lable.append(0)\n",
        "        else:\n",
        "            lable.append(1)\n",
        "    return lable\n",
        "\n",
        "df = df.assign(available = cal_lable(df, 'availability_30'))"
      ],
      "execution_count": null,
      "outputs": []
    },
    {
      "cell_type": "markdown",
      "metadata": {
        "id": "V3AeboKZK_Ig"
      },
      "source": [
        "Using LogisticRegression, classify the items into available and not available classes"
      ]
    },
    {
      "cell_type": "code",
      "metadata": {
        "colab": {
          "base_uri": "https://localhost:8080/"
        },
        "id": "qcPwSayK_0wb",
        "outputId": "4f7599b6-0f26-4b19-c42f-acf291e2807d"
      },
      "source": [
        "y1 = df.loc[:,['available']]\n",
        "X_train, X_test, y_train, y_test = train_test_split(X, y1, test_size = 0.3, random_state=42) \n",
        "sc = StandardScaler()\n",
        "X_train = sc.fit_transform(X_train)\n",
        "X_test = sc.transform(X_test)\n",
        "classifier = LogisticRegression(random_state = 0)\n",
        "classifier.fit(X_train, y_train.values.ravel())\n",
        "y1_pred = classifier.predict(X_test)\n",
        "r2_lg = r2_score(y_test, y1_pred)\n",
        "#print(\"The score of the classifier is {}\".format(r2_lg))\n",
        "cm = confusion_matrix(y_test, y1_pred)\n",
        "print(cm)\n",
        "print(accuracy_score(y_test, y1_pred))"
      ],
      "execution_count": null,
      "outputs": [
        {
          "output_type": "stream",
          "name": "stdout",
          "text": [
            "[[633  68]\n",
            " [246 129]]\n",
            "0.70817843866171\n"
          ]
        }
      ]
    },
    {
      "cell_type": "code",
      "metadata": {
        "id": "-RZGSSUE9wqt"
      },
      "source": [
        "coefs_df = pd.DataFrame()\n",
        "coefs_df['est_int'] = X.columns\n",
        "g = classifier.coef_.reshape(-1)\n",
        "coefs_df['coefs'] = g#classifier.coef_\n",
        "coefs_df['abs_coefs'] = np.abs(g)\n",
        "coefs_df = coefs_df.sort_values('abs_coefs', ascending=False)"
      ],
      "execution_count": null,
      "outputs": []
    },
    {
      "cell_type": "code",
      "metadata": {
        "colab": {
          "base_uri": "https://localhost:8080/"
        },
        "id": "ylV2IR4v-xL1",
        "outputId": "9844d642-eff3-416f-b125-9314e14bc389"
      },
      "source": [
        "print(coefs_df)"
      ],
      "execution_count": null,
      "outputs": [
        {
          "output_type": "stream",
          "name": "stdout",
          "text": [
            "                             est_int     coefs  abs_coefs\n",
            "3                host_listings_count  0.531265   0.531265\n",
            "4          host_total_listings_count  0.531265   0.531265\n",
            "42            room_type_Private room  0.329990   0.329990\n",
            "14                      extra_people  0.278810   0.278810\n",
            "1               host_acceptance_rate -0.275150   0.275150\n",
            "24               review_scores_value -0.231143   0.231143\n",
            "43             room_type_Shared room  0.211157   0.211157\n",
            "7                       accommodates  0.203461   0.203461\n",
            "41               property_type_Villa -0.202011   0.202011\n",
            "35        property_type_Entire Floor -0.169875   0.169875\n",
            "37               property_type_House  0.168854   0.168854\n",
            "11                             price  0.153204   0.153204\n",
            "31                property_type_Boat  0.139747   0.139747\n",
            "19            review_scores_accuracy -0.138426   0.138426\n",
            "27  require_guest_phone_verification  0.131743   0.131743\n",
            "5                           latitude -0.110500   0.110500\n",
            "32           property_type_Camper/RV -0.103486   0.103486\n",
            "6                          longitude  0.103184   0.103184\n",
            "39               property_type_Other  0.099238   0.099238\n",
            "12                      cleaning_fee  0.093361   0.093361\n",
            "9                           bedrooms -0.089766   0.089766\n",
            "29                 reviews_per_month  0.087658   0.087658\n",
            "20         review_scores_cleanliness  0.083795   0.083795\n",
            "28    calculated_host_listings_count -0.081743   0.081743\n",
            "0                 host_response_rate -0.073534   0.073534\n",
            "33         property_type_Condominium  0.070743   0.070743\n",
            "40           property_type_Townhouse  0.070653   0.070653\n",
            "15                    minimum_nights  0.059463   0.059463\n",
            "2                  host_is_superhost -0.054027   0.054027\n",
            "22       review_scores_communication  0.052522   0.052522\n",
            "18              review_scores_rating -0.047572   0.047572\n",
            "26     require_guest_profile_picture -0.040873   0.040873\n",
            "16                    maximum_nights  0.038853   0.038853\n",
            "10                              beds  0.038617   0.038617\n",
            "21             review_scores_checkin  0.037640   0.037640\n",
            "8                          bathrooms -0.031243   0.031243\n",
            "44                    bed_type_Couch  0.026816   0.026816\n",
            "38                property_type_Loft -0.023635   0.023635\n",
            "45                    bed_type_Futon  0.022825   0.022825\n",
            "13                   guests_included -0.022601   0.022601\n",
            "46            bed_type_Pull-out Sofa -0.015906   0.015906\n",
            "25                  instant_bookable -0.014819   0.014819\n",
            "17                 number_of_reviews  0.010715   0.010715\n",
            "23            review_scores_location  0.006881   0.006881\n",
            "30     property_type_Bed & Breakfast  0.005439   0.005439\n",
            "47                 bed_type_Real Bed  0.004928   0.004928\n",
            "34                property_type_Dorm  0.000000   0.000000\n",
            "36          property_type_Guesthouse  0.000000   0.000000\n"
          ]
        }
      ]
    }
  ]
}